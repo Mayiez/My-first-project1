{
  "nbformat": 4,
  "nbformat_minor": 0,
  "metadata": {
    "colab": {
      "provenance": []
    },
    "kernelspec": {
      "name": "python3",
      "display_name": "Python 3"
    },
    "language_info": {
      "name": "python"
    }
  },
  "cells": [
    {
      "cell_type": "code",
      "execution_count": null,
      "metadata": {
        "id": "sW1OmZwgYLFR"
      },
      "outputs": [],
      "source": []
    },
    {
      "cell_type": "markdown",
      "source": [
        "Write a program that will find all numbers which are divisible by 7 but are not a multiple of 5, between 2000 and 3200 (both included). The numbers obtained should be printed in a list.\n",
        "Hint: Consider using the range(#begin, #end) method."
      ],
      "metadata": {
        "id": "QP8_8rPaYai6"
      }
    },
    {
      "cell_type": "code",
      "source": [
        "final_list = []\n",
        "for i in range(2000,3201):\n",
        "  if i % 7 == 0 and i % 5 != 0:\n",
        "    final_list.append(i)\n",
        "\n",
        "\n",
        "print(final_list)"
      ],
      "metadata": {
        "colab": {
          "base_uri": "https://localhost:8080/"
        },
        "id": "ks6ST3GtYdC5",
        "outputId": "d97da22b-1781-401c-bb91-b5d694bda3b8"
      },
      "execution_count": null,
      "outputs": [
        {
          "output_type": "stream",
          "name": "stdout",
          "text": [
            "[2002, 2009, 2016, 2023, 2037, 2044, 2051, 2058, 2072, 2079, 2086, 2093, 2107, 2114, 2121, 2128, 2142, 2149, 2156, 2163, 2177, 2184, 2191, 2198, 2212, 2219, 2226, 2233, 2247, 2254, 2261, 2268, 2282, 2289, 2296, 2303, 2317, 2324, 2331, 2338, 2352, 2359, 2366, 2373, 2387, 2394, 2401, 2408, 2422, 2429, 2436, 2443, 2457, 2464, 2471, 2478, 2492, 2499, 2506, 2513, 2527, 2534, 2541, 2548, 2562, 2569, 2576, 2583, 2597, 2604, 2611, 2618, 2632, 2639, 2646, 2653, 2667, 2674, 2681, 2688, 2702, 2709, 2716, 2723, 2737, 2744, 2751, 2758, 2772, 2779, 2786, 2793, 2807, 2814, 2821, 2828, 2842, 2849, 2856, 2863, 2877, 2884, 2891, 2898, 2912, 2919, 2926, 2933, 2947, 2954, 2961, 2968, 2982, 2989, 2996, 3003, 3017, 3024, 3031, 3038, 3052, 3059, 3066, 3073, 3087, 3094, 3101, 3108, 3122, 3129, 3136, 3143, 3157, 3164, 3171, 3178, 3192, 3199]\n"
          ]
        }
      ]
    },
    {
      "cell_type": "code",
      "source": [
        "def factorial(n):\n",
        "\n",
        "    if n == 0:\n",
        "        return 1\n",
        "\n",
        "    return n * factorial(n-1)\n",
        "\n"
      ],
      "metadata": {
        "id": "onC3uWSbdyYX"
      },
      "execution_count": null,
      "outputs": []
    },
    {
      "cell_type": "code",
      "source": [
        "num = 5;\n",
        "print(\"Factorial of\", num, \"is\",\n",
        "factorial(num))"
      ],
      "metadata": {
        "colab": {
          "base_uri": "https://localhost:8080/"
        },
        "id": "4QZFYe9peGKW",
        "outputId": "8e09607d-ffe9-4a9b-d5c7-ccc64b4db293"
      },
      "execution_count": null,
      "outputs": [
        {
          "output_type": "stream",
          "name": "stdout",
          "text": [
            "Factorial of 5 is 120\n"
          ]
        }
      ]
    },
    {
      "cell_type": "code",
      "source": [
        "# declaring a string variable\n",
        "str = \"Geeksforgeeks is fun.\"\n",
        "\n",
        "# index to remove character at\n",
        "n = 4\n",
        "\n",
        "# declaring an empty string variable for storing modified string\n",
        "modified_str = ''\n",
        "\n",
        "# iterating over the string\n",
        "for char in range(0, len(str)):\n",
        "\n",
        "    # checking if the char index is equivalent to n\n",
        "    if(char != n):\n",
        "        # append original string character\n",
        "        modified_str += str[char]"
      ],
      "metadata": {
        "id": "8H2IqIQTggD9"
      },
      "execution_count": 18,
      "outputs": []
    },
    {
      "cell_type": "code",
      "source": [
        "print(\"Modified string after removing \", n, \"th character \")\n",
        "print(modified_str)"
      ],
      "metadata": {
        "colab": {
          "base_uri": "https://localhost:8080/"
        },
        "id": "hcOs5ZS9gmdD",
        "outputId": "3924ca3c-b9bf-4ebb-d4e2-5b14e54f7d6a"
      },
      "execution_count": 19,
      "outputs": [
        {
          "output_type": "stream",
          "name": "stdout",
          "text": [
            "Modified string after removing  4 th character \n",
            "Geekforgeeks is fun.\n"
          ]
        }
      ]
    },
    {
      "cell_type": "code",
      "source": [
        "\n",
        "# import module\n",
        "import numpy as np\n",
        "\n",
        "# create array\n",
        "print(\"\\nArray:\")\n",
        "arr = np.array([1, 2, 4, 5])\n",
        "print(arr)\n",
        "print(type(arr))\n",
        "\n",
        "# apply method\n",
        "lis = arr.tolist()\n",
        "\n",
        "# display list\n",
        "print(\"\\nList:\")\n",
        "print(lis)\n",
        "print(type(lis))"
      ],
      "metadata": {
        "colab": {
          "base_uri": "https://localhost:8080/"
        },
        "id": "j9SJesvOhJZj",
        "outputId": "714191cf-3dcd-421a-cf87-f140e2ab510d"
      },
      "execution_count": 21,
      "outputs": [
        {
          "output_type": "stream",
          "name": "stdout",
          "text": [
            "\n",
            "Array:\n",
            "[1 2 4 5]\n",
            "<class 'numpy.ndarray'>\n",
            "\n",
            "List:\n",
            "[1, 2, 4, 5]\n",
            "<class 'list'>\n"
          ]
        }
      ]
    },
    {
      "cell_type": "code",
      "source": [
        "# import module\n",
        "import numpy as np\n",
        "\n",
        "# create array\n",
        "print(\"\\nArray:\")\n",
        "arr = np.array([[1, 2, 3],\n",
        "                [4, 5, 6],\n",
        "                [7, 8, 9]])\n",
        "print(arr)\n",
        "print(type(arr))\n",
        "\n",
        "# apply method\n",
        "lis = arr.tolist()\n",
        "\n",
        "# display list\n",
        "print(\"\\nList:\")\n",
        "print(lis)\n",
        "print(type(lis))"
      ],
      "metadata": {
        "colab": {
          "base_uri": "https://localhost:8080/"
        },
        "id": "9oDqkKNYhSFl",
        "outputId": "3021d3fb-300f-4b1e-bc47-697ce25f43a1"
      },
      "execution_count": 22,
      "outputs": [
        {
          "output_type": "stream",
          "name": "stdout",
          "text": [
            "\n",
            "Array:\n",
            "[[1 2 3]\n",
            " [4 5 6]\n",
            " [7 8 9]]\n",
            "<class 'numpy.ndarray'>\n",
            "\n",
            "List:\n",
            "[[1, 2, 3], [4, 5, 6], [7, 8, 9]]\n",
            "<class 'list'>\n"
          ]
        }
      ]
    },
    {
      "cell_type": "code",
      "source": [
        "# Python program to find roots\n",
        "# of a quadratic equation\n",
        "import math\n",
        "\n",
        "# Prints roots of quadratic equation\n",
        "# ax*2 + bx + x\n",
        "def findRoots(a, b, c):\n",
        "\n",
        "    # If a is 0, then equation is\n",
        "    # not quadratic, but linear\n",
        "    if a == 0:\n",
        "        print(\"Invalid\")\n",
        "        return -1\n",
        "    d = b * b - 4 * a * c\n",
        "    sqrt_val = math.sqrt(abs(d))\n",
        "\n",
        "    if d > 0:\n",
        "        print(\"Roots are real and different \")\n",
        "        print((-b + sqrt_val)/(2 * a))\n",
        "        print((-b - sqrt_val)/(2 * a))\n",
        "    elif d == 0:\n",
        "        print(\"Roots are real and same\")\n",
        "        print(-b / (2*a))\n",
        "    else:  # d<0\n",
        "        print(\"Roots are complex\")\n",
        "        print(- b / (2*a), \" + i\", sqrt_val / (2 * a))\n",
        "        print(- b / (2*a), \" - i\", sqrt_val / (2 * a))"
      ],
      "metadata": {
        "id": "MCmFkZ29hqow"
      },
      "execution_count": 23,
      "outputs": []
    },
    {
      "cell_type": "code",
      "source": [
        "# Driver Program\n",
        "if __name__ == '__main__':\n",
        "    a = 1\n",
        "    b = -7\n",
        "    c = 12\n",
        "\n",
        "    # Function call\n",
        "    findRoots(a, b, c)\n",
        ""
      ],
      "metadata": {
        "colab": {
          "base_uri": "https://localhost:8080/"
        },
        "id": "iyBVvlq1huch",
        "outputId": "3cb8e93d-9d52-4d8a-8e31-c53c25dc9a2f"
      },
      "execution_count": 24,
      "outputs": [
        {
          "output_type": "stream",
          "name": "stdout",
          "text": [
            "Roots are real and different \n",
            "4.0\n",
            "3.0\n"
          ]
        }
      ]
    }
  ]
}